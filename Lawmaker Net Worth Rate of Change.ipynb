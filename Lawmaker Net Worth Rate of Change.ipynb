{
 "cells": [
  {
   "cell_type": "code",
   "execution_count": 12,
   "metadata": {},
   "outputs": [],
   "source": [
    "%matplotlib inline\n",
    "\n",
    "import pandas as pd\n",
    "import matplotlib.pyplot as plt\n",
    "from scipy.stats import linregress\n",
    "import numpy as np\n",
    "import statistics"
   ]
  },
  {
   "cell_type": "code",
   "execution_count": 13,
   "metadata": {},
   "outputs": [],
   "source": [
    "# Lawmaker net worth from the Center for Responsive Politics, 2004-2014\n",
    "lnw = []\n",
    "lnw.append(pd.read_csv(\"./datasets/LawmakerNetWorth2004.csv\"))\n",
    "           \n",
    "lnw.append(pd.read_csv(\"./datasets/LawmakerNetWorth2005.csv\"))\n",
    "lnw.append(pd.read_csv(\"./datasets/LawmakerNetWorth2006.csv\"))\n",
    "lnw.append(pd.read_csv(\"./datasets/LawmakerNetWorth2007.csv\"))\n",
    "lnw.append(pd.read_csv(\"./datasets/LawmakerNetWorth2008.csv\"))\n",
    "lnw.append(pd.read_csv(\"./datasets/LawmakerNetWorth2009.csv\"))\n",
    "lnw.append(pd.read_csv(\"./datasets/LawmakerNetWorth2010.csv\"))\n",
    "lnw.append(pd.read_csv(\"./datasets/LawmakerNetWorth2011.csv\"))\n",
    "lnw.append(pd.read_csv(\"./datasets/LawmakerNetWorth2012.csv\"))\n",
    "lnw.append(pd.read_csv(\"./datasets/LawmakerNetWorth2012.csv\"))\n",
    "lnw.append(pd.read_csv(\"./datasets/LawmakerNetWorth2014.csv\"))"
   ]
  },
  {
   "cell_type": "code",
   "execution_count": 14,
   "metadata": {},
   "outputs": [],
   "source": [
    "# formats input of the type: \"John Kerry (D-Mass)\"\n",
    "# into \"John Kerry,\" \"D,\" and \"Mass\"\n",
    "def formatName(list):\n",
    "    list[\"party\"] = \"\"\n",
    "    list[\"state\"] = \"\"\n",
    "    for x in range(0, len(list)):\n",
    "        \n",
    "        if list.at[x, 'chamber'] == 'H' or list.at[x, 'chamber'] == 'S':\n",
    "            n = \"\"\n",
    "            partyState = \"\"\n",
    "            var = list.at[x, 'name']\n",
    "            \n",
    "            paren_count = var.count('(')\n",
    "            \n",
    "            if paren_count > 1:\n",
    "                n,throwaway,partyState = var.split('(')\n",
    "            elif paren_count < 1:\n",
    "                return\n",
    "            else:\n",
    "                n,partyState = var.split('(')\n",
    "\n",
    "            party = \"\"\n",
    "            state = \"\"\n",
    "            \n",
    "            dash_index = partyState.find('-')\n",
    "            \n",
    "            if (dash_index > 0):\n",
    "                party,state = partyState.split('-')\n",
    "                state = state[0:len(state)-1]\n",
    "            else:\n",
    "                party = party.strip('()')\n",
    "\n",
    "            list.at[x, 'name'] = n\n",
    "            list.at[x, 'party'] = party\n",
    "            list.at[x, 'state'] = state\n",
    "           \n",
    "    "
   ]
  },
  {
   "cell_type": "code",
   "execution_count": 15,
   "metadata": {},
   "outputs": [],
   "source": [
    "# add party and state columns to each list\n",
    "for list in lnw:\n",
    "    formatName(list)"
   ]
  },
  {
   "cell_type": "code",
   "execution_count": 16,
   "metadata": {},
   "outputs": [],
   "source": [
    "# Create list of median values and avg. values of lnw over time\n",
    "\n",
    "rep_avg = []\n",
    "rep_med = []\n",
    "dem_avg = []\n",
    "dem_med = []\n",
    "tot_avg = []\n",
    "tot_med = []\n",
    "\n",
    "for list in lnw:\n",
    "    \n",
    "    repList = []\n",
    "    demList = []\n",
    "    # loop over every lawmaker to determine party mean and median by year\n",
    "    for x in range(0, len(list)):\n",
    "        if list.at[x, 'party'] == 'D':\n",
    "            demList.append(list.at[x, 'avgvalue'])\n",
    "        elif list.at[x, 'party'] == 'R':\n",
    "            repList.append(list.at[x, 'avgvalue'])                \n",
    "    \n",
    "    # overall mean and median\n",
    "    tot_avg.append(np.mean(list.avgvalue))\n",
    "    tot_med.append(np.median(list.avgvalue))\n",
    "    # republican mean and median              \n",
    "    rep_avg.append(np.mean(repList))\n",
    "    rep_med.append(np.median(repList))\n",
    "    # democrat mean and median\n",
    "    dem_avg.append(np.mean(demList))\n",
    "    dem_med.append(np.median(demList))\n",
    "    \n",
    "    \n",
    "                           \n",
    "lnwYearlyDict = {\n",
    "    \"avg\": tot_avg,\n",
    "    \"median\": tot_med,\n",
    "    \"repavg\": rep_avg,\n",
    "    \"repmed\": rep_med,\n",
    "    \"demavg\": dem_avg,\n",
    "    \"demmed\": dem_med\n",
    "}\n",
    "\n",
    "                           \n",
    "                           "
   ]
  },
  {
   "cell_type": "code",
   "execution_count": 17,
   "metadata": {},
   "outputs": [],
   "source": [
    "# convert Dict to dataframe\n",
    "lnwYearly = pd.DataFrame(lnwYearlyDict)"
   ]
  },
  {
   "cell_type": "code",
   "execution_count": null,
   "metadata": {},
   "outputs": [],
   "source": []
  },
  {
   "cell_type": "code",
   "execution_count": 22,
   "metadata": {},
   "outputs": [
    {
     "ename": "SyntaxError",
     "evalue": "unexpected EOF while parsing (<ipython-input-22-8e38f6a147eb>, line 7)",
     "output_type": "error",
     "traceback": [
      "\u001b[1;36m  File \u001b[1;32m\"<ipython-input-22-8e38f6a147eb>\"\u001b[1;36m, line \u001b[1;32m7\u001b[0m\n\u001b[1;33m    \u001b[0m\n\u001b[1;37m    ^\u001b[0m\n\u001b[1;31mSyntaxError\u001b[0m\u001b[1;31m:\u001b[0m unexpected EOF while parsing\n"
     ]
    }
   ],
   "source": [
    "# track the changes in each lawmakers net worth over time\n",
    "\n",
    "lmYearly = []\n",
    "nameList = []\n",
    "valList = []\n",
    "    \n",
    "for x in range(0, len(lnw[0])):\n",
    "    yl = []\n",
    "    nameList.append(lnw[0].at[x, 'name'])\n",
    "    yl.append(lnw[0].at[x, 'avgvalue'])\n",
    "    \n",
    "valList.append(yl)    \n",
    "\n",
    "lmYearlyDict = {\n",
    "    \"name\": nameList,\n",
    "    \"2004\": valList[0]\n",
    "}\n",
    "    \n",
    "for x in range(1, len(lnw)):\n",
    "    yearList = []\n",
    "    for y in range(0, len(lnw[x])):\n",
    "        if lnw[x].at[y, 'name'] is in nameList:\n",
    "            # doesn't append this correctly\n",
    "            yearList.append(lnw[x].at[y, 'avgvalue'])\n",
    "        else:\n",
    "            nameList.append(lnw[x].at[y, 'name'])\n",
    "            for (z in range(0, (x-1))):\n",
    "                valList[z].append(lnw[x].at[y, 'avgvalue'])\n",
    "    \n",
    "    \n",
    "    \n"
   ]
  },
  {
   "cell_type": "code",
   "execution_count": null,
   "metadata": {},
   "outputs": [],
   "source": []
  }
 ],
 "metadata": {
  "kernelspec": {
   "display_name": "Python 3",
   "language": "python",
   "name": "python3"
  },
  "language_info": {
   "codemirror_mode": {
    "name": "ipython",
    "version": 3
   },
   "file_extension": ".py",
   "mimetype": "text/x-python",
   "name": "python",
   "nbconvert_exporter": "python",
   "pygments_lexer": "ipython3",
   "version": "3.6.3"
  }
 },
 "nbformat": 4,
 "nbformat_minor": 2
}
