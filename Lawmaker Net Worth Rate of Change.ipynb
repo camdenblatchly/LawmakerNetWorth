{
 "cells": [
  {
   "cell_type": "code",
   "execution_count": 27,
   "metadata": {},
   "outputs": [],
   "source": [
    "%matplotlib inline\n",
    "\n",
    "import pandas as pd\n",
    "import matplotlib.pyplot as plt\n",
    "from scipy.stats import linregress\n",
    "import numpy as np\n",
    "import statistics"
   ]
  },
  {
   "cell_type": "code",
   "execution_count": 28,
   "metadata": {},
   "outputs": [],
   "source": [
    "# Lawmaker net worth from the Center for Responsive Politics, 2004-2014\n",
    "lnw = []\n",
    "lnw.append(pd.read_csv(\"./datasets/LawmakerNetWorth2004.csv\"))\n",
    "           \n",
    "lnw.append(pd.read_csv(\"./datasets/LawmakerNetWorth2005.csv\"))\n",
    "lnw.append(pd.read_csv(\"./datasets/LawmakerNetWorth2006.csv\"))\n",
    "lnw.append(pd.read_csv(\"./datasets/LawmakerNetWorth2007.csv\"))\n",
    "lnw.append(pd.read_csv(\"./datasets/LawmakerNetWorth2008.csv\"))\n",
    "lnw.append(pd.read_csv(\"./datasets/LawmakerNetWorth2009.csv\"))\n",
    "lnw.append(pd.read_csv(\"./datasets/LawmakerNetWorth2010.csv\"))\n",
    "lnw.append(pd.read_csv(\"./datasets/LawmakerNetWorth2011.csv\"))\n",
    "lnw.append(pd.read_csv(\"./datasets/LawmakerNetWorth2012.csv\"))\n",
    "lnw.append(pd.read_csv(\"./datasets/LawmakerNetWorth2012.csv\"))\n",
    "lnw.append(pd.read_csv(\"./datasets/LawmakerNetWorth2014.csv\"))"
   ]
  },
  {
   "cell_type": "code",
   "execution_count": 45,
   "metadata": {},
   "outputs": [],
   "source": [
    "# formats input of the type: \"John Kerry (D-Mass)\"\n",
    "# into \"John Kerry,\" \"D,\" and \"Mass\"\n",
    "def formatName(list):\n",
    "    list[\"party\"] = \"\"\n",
    "    list[\"state\"] = \"\"\n",
    "    \n",
    "    \n",
    "    for x in range(0, len(list)):\n",
    "        \n",
    "        if list.at[x, 'chamber'] == 'H' or list.at[x, 'chamber'] == 'S':\n",
    "            n = \"\"\n",
    "            partyState = \"\"\n",
    "            var = list.at[x, 'name']\n",
    "            \n",
    "            paren_count = var.count('(')\n",
    "            \n",
    "            if paren_count > 1:\n",
    "                n,throwaway,partyState = var.split('(')\n",
    "            elif paren_count < 1:\n",
    "                continue\n",
    "            else:\n",
    "                n,partyState = var.split('(')\n",
    "\n",
    "            party = \"\"\n",
    "            state = \"\"\n",
    "            \n",
    "            dash_index = partyState.find('-')\n",
    "            \n",
    "            if (dash_index > 0):\n",
    "                party,state = partyState.split('-')\n",
    "                state = state[0:len(state)-1]\n",
    "            else:\n",
    "                party = party.strip('()')\n",
    "\n",
    "            list.at[x, 'name'] = n\n",
    "            list.at[x, 'party'] = party\n",
    "            list.at[x, 'state'] = state\n",
    "           \n",
    "    "
   ]
  },
  {
   "cell_type": "code",
   "execution_count": 46,
   "metadata": {},
   "outputs": [],
   "source": [
    "# add party and state columns to each list\n",
    "for list in lnw:\n",
    "    formatName(list)"
   ]
  },
  {
   "cell_type": "code",
   "execution_count": 31,
   "metadata": {},
   "outputs": [],
   "source": [
    "# Create list of median values and avg. values of lnw over time\n",
    "\n",
    "rep_avg = []\n",
    "rep_med = []\n",
    "dem_avg = []\n",
    "dem_med = []\n",
    "tot_avg = []\n",
    "tot_med = []\n",
    "\n",
    "for list in lnw:\n",
    "    \n",
    "    repList = []\n",
    "    demList = []\n",
    "    # loop over every lawmaker to determine party mean and median by year\n",
    "    for x in range(0, len(list)):\n",
    "        if list.at[x, 'party'] == 'D':\n",
    "            demList.append(list.at[x, 'avgvalue'])\n",
    "        elif list.at[x, 'party'] == 'R':\n",
    "            repList.append(list.at[x, 'avgvalue'])                \n",
    "    \n",
    "    # overall mean and median\n",
    "    tot_avg.append(np.mean(list.avgvalue))\n",
    "    tot_med.append(np.median(list.avgvalue))\n",
    "    # republican mean and median              \n",
    "    rep_avg.append(np.mean(repList))\n",
    "    rep_med.append(np.median(repList))\n",
    "    # democrat mean and median\n",
    "    dem_avg.append(np.mean(demList))\n",
    "    dem_med.append(np.median(demList))\n",
    "    \n",
    "    \n",
    "                           \n",
    "lnwYearlyDict = {\n",
    "    \"avg\": tot_avg,\n",
    "    \"median\": tot_med,\n",
    "    \"repavg\": rep_avg,\n",
    "    \"repmed\": rep_med,\n",
    "    \"demavg\": dem_avg,\n",
    "    \"demmed\": dem_med\n",
    "}\n",
    "\n",
    "                           \n",
    "                           "
   ]
  },
  {
   "cell_type": "code",
   "execution_count": 32,
   "metadata": {},
   "outputs": [],
   "source": [
    "# convert Dict to dataframe\n",
    "lnwYearly = pd.DataFrame(lnwYearlyDict)"
   ]
  },
  {
   "cell_type": "code",
   "execution_count": 33,
   "metadata": {},
   "outputs": [],
   "source": [
    "# get the name of every lawmaker\n",
    "lm_profile_list = []\n",
    "\n",
    "for list in lnw:\n",
    "    for x in range(0, len(list)):\n",
    "        \n",
    "        lm_name = list.at[x, 'name']\n",
    "        if (x == 0):\n",
    "            lm_profile = {\n",
    "                \"name\": lm_name,\n",
    "                \"2004\": None,\n",
    "                \"2004_chamber\": None,\n",
    "                \"2005\": None,\n",
    "                \"2005_chamber\": None,\n",
    "                \"2006\": None,\n",
    "                \"2006_chamber\": None,\n",
    "                \"2007\": None,\n",
    "                \"2007_chamber\": None,\n",
    "                \"2008\": None,\n",
    "                \"2008_chamber\": None,\n",
    "                \"2009\": None,\n",
    "                \"2009_chamber\": None,\n",
    "                \"2010\": None,\n",
    "                \"2010_chamber\": None,\n",
    "                \"2011\": None,\n",
    "                \"2011_chamber\": None,\n",
    "                \"2012\": None,\n",
    "                \"2012_chamber\": None,\n",
    "                \"2013\": None,\n",
    "                \"2013_chamber\": None,\n",
    "                \"2014\": None,\n",
    "                \"2014_chamber\": None,\n",
    "                \"avg\": None,\n",
    "            }\n",
    "            lm_profile_list.append(lm_profile)\n",
    "        else:\n",
    "            hasName = False\n",
    "            for y in range(0, len(lm_profile_list)):\n",
    "                if lm_name == lm_profile_list[0].get(\"name\"):\n",
    "                    hasName = True\n",
    "            if hasName == False:          \n",
    "                lm_profile = {\n",
    "                    \"name\": lm_name,\n",
    "                    \"2004\": None,\n",
    "                    \"2004_chamber\": None,\n",
    "                    \"2005\": None,\n",
    "                    \"2005_chamber\": None,\n",
    "                    \"2006\": None,\n",
    "                    \"2006_chamber\": None,\n",
    "                    \"2007\": None,\n",
    "                    \"2007_chamber\": None,\n",
    "                    \"2008\": None,\n",
    "                    \"2008_chamber\": None,\n",
    "                    \"2009\": None,\n",
    "                    \"2009_chamber\": None,\n",
    "                    \"2010\": None,\n",
    "                    \"2010_chamber\": None,\n",
    "                    \"2011\": None,\n",
    "                    \"2011_chamber\": None,\n",
    "                    \"2012\": None,\n",
    "                    \"2012_chamber\": None,\n",
    "                    \"2013\": None,\n",
    "                    \"2013_chamber\": None,\n",
    "                    \"2014\": None,\n",
    "                    \"2014_chamber\": None,\n",
    "                    \"avg\": None, \n",
    "                }\n",
    "                lm_profile_list.append(lm_profile)\n",
    "            \n",
    "            \n",
    "            "
   ]
  },
  {
   "cell_type": "code",
   "execution_count": 34,
   "metadata": {},
   "outputs": [],
   "source": [
    "year = 2004\n",
    "\n",
    "for list in lnw:\n",
    "    for x in range(0, len(list)):\n",
    "        lm_name = list.at[x, 'name']\n",
    "        \n",
    "        for mydict in lm_profile_list:\n",
    "            if mydict.get(\"name\") == lm_name:\n",
    "                str_year = str(year)\n",
    "                mydict[str_year] = list.at[x, 'avgvalue']\n",
    "                str_chamber = str_year + \"_chamber\"\n",
    "                mydict[str_chamber] = list.at[x, 'chamber']\n",
    "                \n",
    "    \n",
    "    year = year + 1\n",
    "    \n",
    "    \n",
    "    "
   ]
  },
  {
   "cell_type": "code",
   "execution_count": 42,
   "metadata": {},
   "outputs": [],
   "source": [
    "for mydict in lm_profile_list:\n",
    "    tot_sum = 0 \n",
    "    year_count = 0;\n",
    "    for key in mydict:\n",
    "        if key != \"name\" and key != \"avg\" and \"chamber\" not in key and mydict[key] != None:\n",
    "            tot_sum = tot_sum + mydict[key]\n",
    "            year_count = year_count + 1\n",
    "            \n",
    "    mydict[\"avg\"] = tot_sum/year_count\n",
    "            \n",
    "        \n",
    "        "
   ]
  },
  {
   "cell_type": "code",
   "execution_count": 43,
   "metadata": {},
   "outputs": [
    {
     "name": "stdout",
     "output_type": "stream",
     "text": [
      "{'name': 'John Kerry ', '2004': 274574824, '2004_chamber': 'S', '2005': 205201748, '2005_chamber': 'S', '2006': 267789805, '2006_chamber': 'S', '2007': 336224883, '2007_chamber': 'S', '2008': 208801275, '2008_chamber': 'S', '2009': 238812296, '2009_chamber': 'S', '2010': 231722794, '2010_chamber': 'S', '2011': None, '2011_chamber': None, '2012': None, '2012_chamber': None, '2013': None, '2013_chamber': None, '2014': None, '2014_chamber': None, 'avg': 251875375.0}\n"
     ]
    }
   ],
   "source": [
    "print(lm_profile_list[0])"
   ]
  },
  {
   "cell_type": "code",
   "execution_count": null,
   "metadata": {},
   "outputs": [],
   "source": [
    "lm_nw_yearly = pd.DataFrame(lm_profile_list)"
   ]
  },
  {
   "cell_type": "code",
   "execution_count": 49,
   "metadata": {},
   "outputs": [],
   "source": [
    "lnwYearly.to_csv(\"datasets/lnw.csv\", index=False)"
   ]
  },
  {
   "cell_type": "code",
   "execution_count": 50,
   "metadata": {},
   "outputs": [],
   "source": [
    "lm_nw_yearly.to_csv(\"datasets/lnw_profiles.csv\", index=False)"
   ]
  },
  {
   "cell_type": "code",
   "execution_count": null,
   "metadata": {},
   "outputs": [],
   "source": []
  }
 ],
 "metadata": {
  "kernelspec": {
   "display_name": "Python 3",
   "language": "python",
   "name": "python3"
  },
  "language_info": {
   "codemirror_mode": {
    "name": "ipython",
    "version": 3
   },
   "file_extension": ".py",
   "mimetype": "text/x-python",
   "name": "python",
   "nbconvert_exporter": "python",
   "pygments_lexer": "ipython3",
   "version": "3.6.3"
  }
 },
 "nbformat": 4,
 "nbformat_minor": 2
}
